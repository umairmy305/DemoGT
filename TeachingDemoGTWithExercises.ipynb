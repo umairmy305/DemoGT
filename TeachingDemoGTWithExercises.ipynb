{
 "cells": [
  {
   "cell_type": "markdown",
   "id": "52e87aa1",
   "metadata": {},
   "source": [
    "# Import Necessary Libraries"
   ]
  },
  {
   "cell_type": "code",
   "execution_count": null,
   "id": "0738b1b2",
   "metadata": {},
   "outputs": [],
   "source": [
    "import numpy as np\n",
    "import pandas as pd\n",
    "import matplotlib.pyplot as plt\n",
    "import seaborn as sns\n",
    "from sklearn.model_selection import train_test_split\n",
    "from sklearn.preprocessing import StandardScaler\n",
    "from sklearn.cluster import KMeans\n",
    "from sklearn.tree import DecisionTreeClassifier, plot_tree\n",
    "from sklearn.metrics import accuracy_score, confusion_matrix, classification_report\n",
    "from sklearn.datasets import load_iris"
   ]
  },
  {
   "cell_type": "markdown",
   "id": "3b39f474",
   "metadata": {},
   "source": [
    "# 1. Data Collection and Preprocessing"
   ]
  },
  {
   "cell_type": "code",
   "execution_count": null,
   "id": "dd4f66a4",
   "metadata": {},
   "outputs": [],
   "source": [
    "# Load the Iris Dataset\n",
    "data = load_iris()"
   ]
  },
  {
   "cell_type": "code",
   "execution_count": null,
   "id": "1388344c",
   "metadata": {},
   "outputs": [],
   "source": [
    "print(data.__dir__())"
   ]
  },
  {
   "cell_type": "code",
   "execution_count": null,
   "id": "bd648b8f",
   "metadata": {},
   "outputs": [],
   "source": [
    "# Print the first 10 rows of the data\n",
    "print(data.data[:10])\n",
    "# Print feature names\n",
    "print(data.feature_names)"
   ]
  },
  {
   "cell_type": "markdown",
   "id": "60d4c9bf",
   "metadata": {},
   "source": [
    "## Exercise: Can you print out the first 10 rows of the target? "
   ]
  },
  {
   "cell_type": "code",
   "execution_count": null,
   "id": "78dab599",
   "metadata": {},
   "outputs": [],
   "source": [
    "# Print first 10 targets (FILL IN next line)\n",
    "\n",
    "# Print the class/species names (FILL IN next line)\n"
   ]
  },
  {
   "cell_type": "markdown",
   "id": "690b41a3",
   "metadata": {},
   "source": [
    "## Data Integration"
   ]
  },
  {
   "cell_type": "code",
   "execution_count": null,
   "id": "00d3ec2d",
   "metadata": {},
   "outputs": [],
   "source": [
    "# Create a pandas data frame to store the features with \n",
    "df = pd.DataFrame(data.data, columns=data.feature_names)\n",
    "df['species'] = data.target"
   ]
  },
  {
   "cell_type": "markdown",
   "id": "1e09a9ec",
   "metadata": {},
   "source": [
    "# 2. Exploratory Data Analysis (EDA)"
   ]
  },
  {
   "cell_type": "code",
   "execution_count": null,
   "id": "eb46819d",
   "metadata": {},
   "outputs": [],
   "source": [
    "# Display first few rows using the head function\n",
    "display(df.head())"
   ]
  },
  {
   "cell_type": "code",
   "execution_count": null,
   "id": "f4edbde4",
   "metadata": {},
   "outputs": [],
   "source": [
    "display(df.tail())"
   ]
  },
  {
   "cell_type": "code",
   "execution_count": null,
   "id": "0079f6c1",
   "metadata": {},
   "outputs": [],
   "source": [
    "display(df[:10])"
   ]
  },
  {
   "cell_type": "markdown",
   "id": "fb44912d",
   "metadata": {},
   "source": [
    "## Exercise. Can you display rows 70 - 80? "
   ]
  },
  {
   "cell_type": "code",
   "execution_count": null,
   "id": "717ade89",
   "metadata": {},
   "outputs": [],
   "source": [
    "# FILL IN here to display rows 70 - 80\n"
   ]
  },
  {
   "cell_type": "code",
   "execution_count": null,
   "id": "3040f5e0",
   "metadata": {},
   "outputs": [],
   "source": [
    "# Print summary statistics\n",
    "display(df.describe())"
   ]
  },
  {
   "cell_type": "code",
   "execution_count": null,
   "id": "3de17c17",
   "metadata": {},
   "outputs": [],
   "source": [
    "# Print only the minimum value\n",
    "df.describe().loc[['min']]"
   ]
  },
  {
   "cell_type": "code",
   "execution_count": null,
   "id": "40a75af5",
   "metadata": {},
   "outputs": [],
   "source": [
    "# Print the minimum value of only the features\n",
    "df.iloc[:, :-1].describe().loc[['min']]"
   ]
  },
  {
   "cell_type": "markdown",
   "id": "080f42e2",
   "metadata": {},
   "source": [
    "## Exercise\n",
    "The five point summary of each feature comprises the minimum, lower quartile, median, upper quartile and maximum. Can you modify the code in the previous two cells to print the 5-point summary of only the features?"
   ]
  },
  {
   "cell_type": "code",
   "execution_count": null,
   "id": "3e65910b",
   "metadata": {},
   "outputs": [],
   "source": [
    "# FILL IN Print the five point summary of onlt the features\n"
   ]
  },
  {
   "cell_type": "markdown",
   "id": "562c3f27",
   "metadata": {},
   "source": [
    "# 3. EDA with Visualization"
   ]
  },
  {
   "cell_type": "markdown",
   "id": "88f3e771",
   "metadata": {},
   "source": [
    "# 3.1 Univariate Histograms"
   ]
  },
  {
   "cell_type": "code",
   "execution_count": null,
   "id": "6e908cf7",
   "metadata": {},
   "outputs": [],
   "source": [
    "feature_names = df.columns[:4]  \n",
    "fig, axes = plt.subplots(2, 2, figsize=(12, 8))\n",
    "axes = axes.ravel()\n",
    "for i, feature in enumerate(feature_names):\n",
    "    axes[i].hist(df[feature], bins=20, color='skyblue', edgecolor='black', alpha=0.7)\n",
    "    axes[i].set_title(f\"Histogram of {feature}\")\n",
    "    axes[i].set_xlabel(feature)\n",
    "    axes[i].set_ylabel(\"Frequency\")\n",
    "\n",
    "plt.tight_layout()\n",
    "plt.show()"
   ]
  },
  {
   "cell_type": "markdown",
   "id": "4b0fce30",
   "metadata": {},
   "source": [
    "## 3.2 Scatter Plots (Bi-Variate)"
   ]
  },
  {
   "cell_type": "code",
   "execution_count": null,
   "id": "9537dc9c",
   "metadata": {},
   "outputs": [],
   "source": [
    "plt.figure(figsize=(8,6))\n",
    "plt.scatter(df['sepal length (cm)'], df['sepal width (cm)'])\n",
    "plt.show()"
   ]
  },
  {
   "cell_type": "code",
   "execution_count": null,
   "id": "1fce7306",
   "metadata": {},
   "outputs": [],
   "source": [
    "plt.figure(figsize=(8,6))\n",
    "plt.scatter(df[\"sepal length (cm)\"], df[\"sepal width (cm)\"], c=df[\"species\"], cmap = \"viridis\")\n",
    "plt.xlabel('sepal length (cm)')\n",
    "plt.ylabel('sepal width (cm)')\n",
    "plt.show()"
   ]
  },
  {
   "cell_type": "code",
   "execution_count": null,
   "id": "07867412",
   "metadata": {},
   "outputs": [],
   "source": [
    "plt.figure(figsize=(8,6))\n",
    "sc = plt.scatter(df[\"sepal length (cm)\"], df[\"sepal width (cm)\"], \n",
    "                 c=df[\"species\"], cmap=\"viridis\")\n",
    "plt.xlabel('Sepal Length (cm)')\n",
    "plt.ylabel('Sepal Width (cm)')\n",
    "\n",
    "legend_labels = [plt.Line2D([0], [0], marker='o', color='w', markersize=10,\n",
    "                            markerfacecolor=sc.get_cmap()(i/2)) \n",
    "                 for i in range(3)]\n",
    "plt.legend(legend_labels, data.target_names, title=\"Species\")\n",
    "\n",
    "plt.show()"
   ]
  },
  {
   "cell_type": "code",
   "execution_count": null,
   "id": "4a696b69",
   "metadata": {},
   "outputs": [],
   "source": [
    "plt.figure(figsize=(8,6))\n",
    "sns.scatterplot(data=df, x=\"sepal length (cm)\", y=\"sepal width (cm)\", \n",
    "                hue=\"species\", palette=\"viridis\")\n",
    "plt.xlabel('Sepal Length (cm)')\n",
    "plt.ylabel('Sepal Width (cm)')\n",
    "plt.legend(title=\"Species\")\n",
    "plt.show()"
   ]
  },
  {
   "cell_type": "code",
   "execution_count": null,
   "id": "7021b285",
   "metadata": {},
   "outputs": [],
   "source": [
    "plt.figure(figsize=(8,6))\n",
    "sns.scatterplot(data=df, x=\"sepal length (cm)\", y=\"sepal width (cm)\", \n",
    "                hue=df[\"species\"].map({0: \"setosa\", 1: \"versicolor\", 2: \"virginica\"}), \n",
    "                palette=\"viridis\")\n",
    "plt.xlabel('Sepal Length (cm)')\n",
    "plt.ylabel('Sepal Width (cm)')\n",
    "plt.legend(title=\"Species\")\n",
    "plt.show()"
   ]
  },
  {
   "cell_type": "markdown",
   "id": "859b5123",
   "metadata": {},
   "source": [
    "## Exercise: Create a scatter plot of petal width versus petal length"
   ]
  },
  {
   "cell_type": "code",
   "execution_count": null,
   "id": "624535a1",
   "metadata": {},
   "outputs": [],
   "source": [
    "### FILL IN the code in this cell"
   ]
  },
  {
   "cell_type": "markdown",
   "id": "6acc55a9",
   "metadata": {},
   "source": [
    "## 3.2.1 Box and Violin Plots"
   ]
  },
  {
   "cell_type": "code",
   "execution_count": null,
   "id": "8db2b143",
   "metadata": {},
   "outputs": [],
   "source": [
    "plt.figure(figsize=(12, 6))\n",
    "\n",
    "# Create boxplots for all features\n",
    "plt.boxplot([df[col] for col in df.columns[:-1]], labels=df.columns[:-1])\n",
    "\n",
    "# Labels and title\n",
    "plt.xlabel(\"Features\")\n",
    "plt.ylabel(\"Value\")\n",
    "plt.title(\"Boxplots of Iris Features (Matplotlib)\")\n",
    "plt.grid()\n",
    "\n",
    "# Show the plot\n",
    "plt.show()"
   ]
  },
  {
   "cell_type": "code",
   "execution_count": null,
   "id": "6e8bc937",
   "metadata": {},
   "outputs": [],
   "source": [
    "plt.figure(figsize=(12, 6))\n",
    "df_melted = df.iloc[:, :-1].melt(var_name=\"Feature\", value_name=\"Value\")\n",
    "sns.boxplot(data=df_melted, x=\"Feature\", y=\"Value\")\n",
    "plt.xlabel(\"Features\")\n",
    "plt.ylabel(\"Value\")\n",
    "plt.title(\"Boxplots of Iris Features (Seaborn)\")\n",
    "plt.grid()\n",
    "plt.show()"
   ]
  },
  {
   "cell_type": "code",
   "execution_count": null,
   "id": "815d75e1",
   "metadata": {},
   "outputs": [],
   "source": [
    "plt.figure(figsize=(12, 6))\n",
    "df_melted = df.melt(id_vars=\"species\", var_name=\"Feature\", value_name=\"Value\")\n",
    "sns.boxplot(data=df_melted, x=\"Feature\", y=\"Value\", hue=\"species\", palette=\"viridis\")\n",
    "plt.xlabel(\"Features\")\n",
    "plt.ylabel(\"Value\")\n",
    "plt.title(\"Boxplots of Iris Features (Seaborn)\")\n",
    "plt.legend(title=\"Species\")\n",
    "plt.show()"
   ]
  },
  {
   "cell_type": "code",
   "execution_count": null,
   "id": "4adaeb6c",
   "metadata": {},
   "outputs": [],
   "source": [
    "plt.figure(figsize=(12, 6))\n",
    "df_melted = df.iloc[:, :-1].melt(var_name=\"Feature\", value_name=\"Value\")\n",
    "sns.violinplot(data=df_melted, x=\"Feature\", y=\"Value\")\n",
    "plt.xlabel(\"Features\")\n",
    "plt.ylabel(\"Value\")\n",
    "plt.title(\"Boxplots of Iris Features (Seaborn)\")\n",
    "plt.show()"
   ]
  },
  {
   "cell_type": "markdown",
   "id": "28788c4a",
   "metadata": {},
   "source": [
    "## 3.3 Correlation Maps and Pair-Plots (Multi-Variate)"
   ]
  },
  {
   "cell_type": "code",
   "execution_count": null,
   "id": "46f7723b",
   "metadata": {},
   "outputs": [],
   "source": [
    "# Pairplot to visualize feature relationships\n",
    "sns.pairplot(df, hue='species', diag_kind='kde')\n",
    "plt.show()"
   ]
  },
  {
   "cell_type": "code",
   "execution_count": null,
   "id": "2f7e6715",
   "metadata": {},
   "outputs": [],
   "source": [
    "# Correlation heatmap\n",
    "plt.figure(figsize=(8,6))\n",
    "sns.heatmap(df.corr(), annot=True, fmt='.2f')\n",
    "plt.title(\"Feature Correlation Heatmap\")\n",
    "plt.show()"
   ]
  },
  {
   "cell_type": "markdown",
   "id": "fbd408f1",
   "metadata": {},
   "source": [
    "## Exercise. Can you restrict the correlation map to show only species with a 'coolwarm' colormap? "
   ]
  },
  {
   "cell_type": "code",
   "execution_count": null,
   "id": "0951113c",
   "metadata": {},
   "outputs": [],
   "source": [
    "# FILL IN the code in this cell\n"
   ]
  },
  {
   "cell_type": "markdown",
   "id": "b7a0b548",
   "metadata": {},
   "source": [
    "# 4. Unsupervised Learning with k-means"
   ]
  },
  {
   "cell_type": "code",
   "execution_count": null,
   "id": "b124708a",
   "metadata": {},
   "outputs": [],
   "source": [
    "# Normalize features with standard scaler\n",
    "scaler = StandardScaler()\n",
    "X_scaled = scaler.fit_transform(df.iloc[:, :4])\n",
    "# Apply K-Means with 3 clusters\n",
    "kmeans = KMeans(n_clusters=2, random_state=42, n_init=10)\n",
    "kmeans_labels = kmeans.fit_predict(X_scaled)\n",
    "\n",
    "# Add cluster labels to dataframe\n",
    "df['cluster'] = kmeans_labels\n",
    "\n",
    "# Visualize clusters\n",
    "plt.figure(figsize=(8,6))\n",
    "sns.scatterplot(x=df.iloc[:, 0], y=df.iloc[:, 2], hue=df['cluster'], palette='viridis')\n",
    "plt.xlabel(data.feature_names[0])\n",
    "plt.ylabel(data.feature_names[2])\n",
    "plt.title(\"K-Means Clustering on Iris Dataset\")\n",
    "plt.show()"
   ]
  },
  {
   "cell_type": "markdown",
   "id": "0bc0b7de",
   "metadata": {},
   "source": [
    "## Exercise: Can you run the k-means algorithm to generate 3 clusters?"
   ]
  },
  {
   "cell_type": "code",
   "execution_count": null,
   "id": "0b013149",
   "metadata": {},
   "outputs": [],
   "source": [
    "scaler = StandardScaler()\n",
    "X_scaled = scaler.fit_transform(df.iloc[:, :4])\n",
    "### MODIFY the next line correctly\n",
    "kmeans = KMeans(n_clusters=2, random_state=42, n_init=10)\n",
    "###\n",
    "kmeans_labels = kmeans.fit_predict(X_scaled)\n",
    "\n",
    "df['cluster'] = kmeans_labels\n",
    "\n",
    "plt.figure(figsize=(8,6))\n",
    "sns.scatterplot(x=df.iloc[:, 0], y=df.iloc[:, 2], hue=df['cluster'], palette='viridis')\n",
    "plt.xlabel(data.feature_names[0])\n",
    "plt.ylabel(data.feature_names[2])\n",
    "plt.title(\"K-Means Clustering on Iris Dataset\")\n",
    "plt.show()"
   ]
  },
  {
   "cell_type": "code",
   "execution_count": null,
   "id": "56dfc646",
   "metadata": {},
   "outputs": [],
   "source": [
    "display(df[:10])\n",
    "display(df[50:60])\n",
    "display(df[100:110])"
   ]
  },
  {
   "cell_type": "code",
   "execution_count": null,
   "id": "d7934aeb",
   "metadata": {},
   "outputs": [],
   "source": [
    "# Set up a 1-row, 2-column subplot\n",
    "fig, axes = plt.subplots(1, 2, figsize=(14, 6))\n",
    "\n",
    "# Left plot: K-Means Clusters\n",
    "sns.scatterplot(ax=axes[0], data=df, x=\"sepal length (cm)\", y=\"sepal width (cm)\", \n",
    "                hue=df[\"cluster\"], palette=\"viridis\", edgecolor='k')\n",
    "axes[0].set_title(\"K-Means Clustering (3 Clusters)\")\n",
    "axes[0].set_xlabel(\"Sepal Length (cm)\")\n",
    "axes[0].set_ylabel(\"Sepal Width (cm)\")\n",
    "axes[0].legend(title=\"Cluster\")\n",
    "\n",
    "# Right plot: True Species Labels\n",
    "sns.scatterplot(ax=axes[1], data=df, x=\"sepal length (cm)\", y=\"sepal width (cm)\", \n",
    "                hue=df[\"species\"], palette=\"viridis\", edgecolor='k')\n",
    "axes[1].set_title(\"True Labels (Species)\")\n",
    "axes[1].set_xlabel(\"Sepal Length (cm)\")\n",
    "axes[1].set_ylabel(\"Sepal Width (cm)\")\n",
    "axes[1].legend(title=\"Species\")\n",
    "\n",
    "# Show the plots\n",
    "plt.tight_layout()\n",
    "plt.show()"
   ]
  },
  {
   "cell_type": "markdown",
   "id": "1f09d586",
   "metadata": {},
   "source": [
    "## Exercise: Replace sepal width/length with petal width/length"
   ]
  },
  {
   "cell_type": "code",
   "execution_count": null,
   "id": "a256d2f1",
   "metadata": {},
   "outputs": [],
   "source": [
    "### FILL IN the code in this cell"
   ]
  },
  {
   "cell_type": "code",
   "execution_count": null,
   "id": "cb5ae58f",
   "metadata": {},
   "outputs": [],
   "source": [
    "centroids = kmeans.cluster_centers_  # Get cluster centroids\n",
    "\n",
    "# Set up a 1-row, 2-column subplot\n",
    "fig, axes = plt.subplots(1, 2, figsize=(14, 6))\n",
    "\n",
    "# Left plot: K-Means Clusters\n",
    "sns.scatterplot(ax=axes[0], data=df, x=\"petal length (cm)\", y=\"petal width (cm)\", \n",
    "                hue=df[\"cluster\"], palette=\"viridis\", edgecolor='k')\n",
    "axes[0].scatter(centroids[:, 0], centroids[:, 1], marker='X', s=200, c='red', edgecolor='k', label=\"Centroids\")\n",
    "axes[0].set_title(\"K-Means Clustering (3 Clusters)\")\n",
    "axes[0].set_xlabel(\"petal Length (cm)\")\n",
    "axes[0].set_ylabel(\"petal Width (cm)\")\n",
    "axes[0].legend(title=\"Cluster\")\n",
    "\n",
    "# Right plot: True Species Labels\n",
    "sns.scatterplot(ax=axes[1], data=df, x=\"petal length (cm)\", y=\"petal width (cm)\", \n",
    "                hue=df[\"species\"], palette=\"viridis\", edgecolor='k')\n",
    "axes[1].set_title(\"True Labels (Species)\")\n",
    "axes[1].set_xlabel(\"petal Length (cm)\")\n",
    "axes[1].set_ylabel(\"petal Width (cm)\")\n",
    "axes[1].legend(title=\"Species\")\n",
    "\n",
    "plt.tight_layout()\n",
    "plt.show()"
   ]
  },
  {
   "cell_type": "code",
   "execution_count": null,
   "id": "e83fc8a8",
   "metadata": {},
   "outputs": [],
   "source": [
    "\n",
    "cluster_colors = sns.color_palette(\"viridis\", n_colors=3)\n",
    "\n",
    "fig, axes = plt.subplots(1, 2, figsize=(14, 6))\n",
    "sns.scatterplot(ax=axes[0], data=df, x=\"petal length (cm)\", y=\"petal width (cm)\", \n",
    "                hue=df[\"cluster\"], palette=cluster_colors, edgecolor='k')\n",
    "for i, centroid in enumerate(centroids):\n",
    "    axes[0].scatter(centroid[0], centroid[1], marker='X', s=200, c=[cluster_colors[i]], \n",
    "                    edgecolor='k', label=None)\n",
    "\n",
    "axes[0].set_title(\"K-Means Clustering (3 Clusters)\")\n",
    "axes[0].set_xlabel(\"petal Length (cm)\")\n",
    "axes[0].set_ylabel(\"petal Width (cm)\")\n",
    "axes[0].legend(title=\"Cluster\")\n",
    "\n",
    "sns.scatterplot(ax=axes[1], data=df, x=\"petal length (cm)\", y=\"petal width (cm)\", \n",
    "                hue=df[\"species\"].map({0: \"setosa\", 1: \"versicolor\", 2: \"virginica\"}), \n",
    "                palette=cluster_colors, edgecolor='k')\n",
    "\n",
    "axes[1].set_title(\"True Labels (Species)\")\n",
    "axes[1].set_xlabel(\"petal Length (cm)\")\n",
    "axes[1].set_ylabel(\"petal Width (cm)\")\n",
    "axes[1].legend(title=\"Species\")\n",
    "\n",
    "plt.tight_layout()\n",
    "plt.show()"
   ]
  },
  {
   "cell_type": "markdown",
   "id": "73cec470",
   "metadata": {},
   "source": [
    "## Take-home: \n",
    "1. For visualization, reduce the feature set with PCA and visualize with \"new\" features.\n",
    "2. Run k-means on the reduced feature set."
   ]
  },
  {
   "cell_type": "markdown",
   "id": "dc1e7706",
   "metadata": {},
   "source": [
    "# 5. Supervised Learning"
   ]
  },
  {
   "cell_type": "code",
   "execution_count": null,
   "id": "fe122206",
   "metadata": {},
   "outputs": [],
   "source": [
    "## Supervised Learning: Decision Tree Classifier\n",
    "# Split data into train and test sets\n",
    "X = df.iloc[:, :4]  # Features\n",
    "y = df['species']  # Target\n",
    "print('X shape:', X.shape)\n",
    "print('y shape:', y.shape)\n",
    "X_train, X_test, y_train, y_test = train_test_split(X, y, test_size=0.2, random_state=42) \n",
    "print(f\"The training set contains {X_train.shape[0]} samples each comprising {X_train.shape[1]} features.\")\n",
    "print(f\"There are {y_train.shape[0]} labels associated with the train set.\")\n",
    "print(f\"The test set contains {X_test.shape[0]} samples comprising {X_test.shape[1]} features.\")\n",
    "print(f\"There are {y_test.shape[0]} labels associated with the test set.\")"
   ]
  },
  {
   "cell_type": "code",
   "execution_count": null,
   "id": "0d5a4319",
   "metadata": {},
   "outputs": [],
   "source": [
    "# Train Decision Tree Classifier\n",
    "clf = DecisionTreeClassifier(random_state=42)\n",
    "clf.fit(X_train, y_train)"
   ]
  },
  {
   "cell_type": "code",
   "execution_count": null,
   "id": "5b3d28d0",
   "metadata": {},
   "outputs": [],
   "source": [
    "# Predictions\n",
    "y_pred = clf.predict(X_test)"
   ]
  },
  {
   "cell_type": "code",
   "execution_count": null,
   "id": "f3b7a9b7",
   "metadata": {},
   "outputs": [],
   "source": [
    "# Model evaluation\n",
    "accuracy = accuracy_score(y_test, y_pred)\n",
    "print(f\"Decision Tree Accuracy: {accuracy:.2f}\")\n",
    "\n",
    "# Confusion Matrix\n",
    "conf_matrix = confusion_matrix(y_test, y_pred)\n",
    "sns.heatmap(conf_matrix, annot=True, cmap='Blues', fmt='d', xticklabels=data.target_names, yticklabels=data.target_names)\n",
    "plt.xlabel(\"Predicted\")\n",
    "plt.ylabel(\"Actual\")\n",
    "plt.title(\"Confusion Matrix\")\n",
    "plt.show()\n",
    "\n",
    "# Classification Report\n",
    "print(\"Classification Report:\\n\", classification_report(y_test, y_pred, target_names=data.target_names))"
   ]
  },
  {
   "cell_type": "code",
   "execution_count": null,
   "id": "5b075e46",
   "metadata": {},
   "outputs": [],
   "source": [
    "plt.figure(figsize=(20, 15))\n",
    "plot_tree(clf, feature_names=data.feature_names, class_names=data.target_names, filled=True)\n",
    "plt.show()"
   ]
  }
 ],
 "metadata": {
  "kernelspec": {
   "display_name": "Python 3 (ipykernel)",
   "language": "python",
   "name": "python3"
  },
  "language_info": {
   "codemirror_mode": {
    "name": "ipython",
    "version": 3
   },
   "file_extension": ".py",
   "mimetype": "text/x-python",
   "name": "python",
   "nbconvert_exporter": "python",
   "pygments_lexer": "ipython3",
   "version": "3.9.6"
  }
 },
 "nbformat": 4,
 "nbformat_minor": 5
}
