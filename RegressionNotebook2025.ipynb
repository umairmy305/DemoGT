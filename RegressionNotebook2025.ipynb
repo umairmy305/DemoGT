{
  "cells": [
    {
      "cell_type": "markdown",
      "metadata": {
        "id": "qyDW0daUL9I-"
      },
      "source": [
        "- Importing Libraries\n",
        "- Matplotlib\n",
        "- Linear Regression\n",
        "- Logistic Regression"
      ]
    },
    {
      "cell_type": "markdown",
      "metadata": {
        "id": "4AoejyO09dgH"
      },
      "source": [
        "# Importing Libraries"
      ]
    },
    {
      "cell_type": "code",
      "execution_count": null,
      "metadata": {
        "id": "lp-8f9iy9dgH"
      },
      "outputs": [],
      "source": [
        "# Import needed libraries\n",
        "# General-Purpose Libraries\n",
        "import numpy as np\n",
        "import matplotlib.pyplot as plt\n",
        "import pandas as pd\n",
        "\n",
        "# Libraries needed for the linear regression exercise\n",
        "from sklearn import datasets, linear_model\n",
        "from sklearn.metrics import mean_squared_error, r2_score\n",
        "from sklearn.model_selection import train_test_split\n",
        "\n",
        "# Libraries needed for the Logistic Regression Exercise\n",
        "from sklearn.datasets import load_breast_cancer\n",
        "from sklearn.linear_model import LogisticRegression\n",
        "from sklearn import metrics\n",
        "from sklearn import preprocessing\n",
        "import seaborn as sns"
      ]
    },
    {
      "cell_type": "markdown",
      "source": [
        "$ a = b+x $"
      ],
      "metadata": {
        "id": "cLlJ4v51_PCZ"
      }
    },
    {
      "cell_type": "markdown",
      "metadata": {
        "id": "x-Po_ar9MriW"
      },
      "source": [
        "# Matplotlib"
      ]
    },
    {
      "cell_type": "code",
      "execution_count": null,
      "metadata": {
        "id": "8KzoWP709dgJ"
      },
      "outputs": [],
      "source": [
        "positive_list  = [1, 2, 3, 4, 5, 6, 7, 8, 9, 10]\n",
        "negative_list  = [-1, -2, -3, -4, -5, -6, -7, -8, -9, -10]\n",
        "#Plotting a list\n",
        "plt.plot(negative_list, positive_list)\n",
        "\n",
        "plt.show()\n"
      ]
    },
    {
      "cell_type": "code",
      "execution_count": null,
      "metadata": {
        "id": "oBN6YnVoMqsH"
      },
      "outputs": [],
      "source": [
        "positive_list   = range(0, 11)\n",
        "#negative_list   = [0, -1, -2, -3, -4, -5, -6, -7, -8, -9, -10]\n",
        "negative_list   = range(0,-11,-1)\n",
        "straight_line   = 11*[6]\n",
        "\n",
        "# fig, ax = plt.subplots(4, 3)\n",
        "fig = plt.figure()\n",
        "fig.set_size_inches(4, 3)\n",
        "\n",
        "#Plotting a list\n",
        "plt.plot(negative_list, positive_list, 'bx-.')\n",
        "#plt.plot(negative_list, straight_line, 'ro:')\n",
        "\n",
        "#Lables\n",
        "plt.ylabel(\"Y Axis\")\n",
        "plt.xlabel(\"X Axis\")\n",
        "plt.xlim([-10, 0])\n",
        "plt.ylim([0, 10])\n",
        "plt.legend([\"Plot\"])\n",
        "#plt.legend([\"Plot\", \"Constant\"])\n",
        "plt.title(\"Matplotlib Tutorial\")\n",
        "plt.xlabel(\"Time [s]\")\n",
        "plt.ylabel(\"Amplitude [V]\")\n",
        "plt.grid()\n",
        "\n",
        "\n",
        "plt.show()"
      ]
    },
    {
      "cell_type": "markdown",
      "metadata": {
        "id": "xSCiRYhGM0-T"
      },
      "source": [
        "# Linear Regression"
      ]
    },
    {
      "cell_type": "code",
      "execution_count": null,
      "metadata": {
        "id": "f0cKao7RM-Cb"
      },
      "outputs": [],
      "source": [
        "# Load the diabetes dataset\n",
        "diabetes_X, diabetes_y = datasets.load_diabetes(return_X_y=True, as_frame=True)"
      ]
    },
    {
      "cell_type": "code",
      "execution_count": null,
      "metadata": {
        "id": "AFSy5wwE9dgL"
      },
      "outputs": [],
      "source": [
        "print('The total dataset size is: {} '.format(len(diabetes_X)))\n",
        "print(\"Here are the first 10 examples of the features: \")\n",
        "display(diabetes_X[:10])\n",
        "print(\"Here are the corresponding labels\")\n",
        "print(diabetes_y.values[:10])"
      ]
    },
    {
      "cell_type": "code",
      "execution_count": null,
      "metadata": {
        "id": "aTrsf5t1NCWR"
      },
      "outputs": [],
      "source": [
        "# Split the data into training/testing sets\n",
        "diabetes_X_tr, diabetes_X_tt, diabetes_y_train, diabetes_y_test = train_test_split(diabetes_X,\n",
        "                                                                                   diabetes_y,\n",
        "                                                                                   test_size=0.2,\n",
        "                                                                                   random_state=56)"
      ]
    },
    {
      "cell_type": "code",
      "execution_count": null,
      "metadata": {
        "id": "-QGMKw2Soi56"
      },
      "outputs": [],
      "source": [
        "# Isolate the feature values for the training and testing datasets\n",
        "diabetes_X_train = diabetes_X_tr.values\n",
        "diabetes_X_test = diabetes_X_tt.values\n",
        "(\"Ensure that the train-test split is about 80-20:\")\n",
        "print('The shape the training set feature vector is: {} '.format(diabetes_X_train.shape))\n",
        "print('The shape the testing set feature vector is: {} '.format(diabetes_X_test.shape))"
      ]
    },
    {
      "cell_type": "code",
      "execution_count": null,
      "metadata": {
        "id": "GJtsweu6oorO"
      },
      "outputs": [],
      "source": [
        "# Create linear regression object\n",
        "regr = linear_model.LinearRegression()"
      ]
    },
    {
      "cell_type": "code",
      "execution_count": null,
      "metadata": {
        "id": "dHMwHA8posoQ"
      },
      "outputs": [],
      "source": [
        "# Train the model using the training sets\n",
        "regr.fit(diabetes_X_train, diabetes_y_train.values)"
      ]
    },
    {
      "cell_type": "code",
      "execution_count": null,
      "metadata": {
        "id": "iCV9fgQt9dgM"
      },
      "outputs": [],
      "source": [
        "# Make predictions using the testing set\n",
        "diabetes_y_pred = regr.predict(diabetes_X_test)"
      ]
    },
    {
      "cell_type": "code",
      "execution_count": null,
      "metadata": {
        "id": "mOFjcU39ovI7"
      },
      "outputs": [],
      "source": [
        "# The coefficients\n",
        "print(\"Coefficients: \\n\", regr.coef_)\n",
        "print(\"Intercept/Bias: %.4f\" % regr.intercept_)\n",
        "# The mean squared error\n",
        "print(\"Mean squared error (MSE): %.2f\" % mean_squared_error(diabetes_y_test.values, diabetes_y_pred))\n",
        "# The root mean squared error\n",
        "print(\"Root Mean squared error (RMSE): %.2f\" % np.sqrt(mean_squared_error(diabetes_y_test.values, diabetes_y_pred)))\n",
        "# The coefficient of determination: 1 is perfect prediction\n",
        "print(\"Coefficient of determination: %.2f\" % r2_score(diabetes_y_test.values, diabetes_y_pred))\n",
        "print(\"Nice Formula Form:\")\n",
        "diabetes_X.columns.to_list()\n",
        "print(\"Progression =\", end =' ')\n",
        "for x,y in zip(regr.coef_,diabetes_X.columns.to_list()):\n",
        "    #print(x,y)\n",
        "    print(\"%+.2f*%s\" % (x, y), end ='')\n",
        "print(\"%+.2f\" % regr.intercept_, end ='')"
      ]
    },
    {
      "cell_type": "code",
      "execution_count": null,
      "metadata": {
        "id": "5ehIVKc4o1dx"
      },
      "outputs": [],
      "source": [
        "# Compare Outputs as a bar chart\n",
        "plt.bar(np.arange(1,len(diabetes_y_test)+1),diabetes_y_test, color=\"blue\", linewidth=1)\n",
        "plt.bar(np.arange(1,len(diabetes_y_pred)+1),diabetes_y_pred, color=\"red\", linewidth=0.5)\n",
        "plt.legend([\"Original\",\"Predictions\"])\n",
        "plt.xlabel(\"Sample Index\")\n",
        "plt.ylabel(\"Diabetes Progression Scores\")\n",
        "plt.grid()\n",
        "plt.show()"
      ]
    },
    {
      "cell_type": "markdown",
      "metadata": {
        "id": "jbiRUMz29dgN"
      },
      "source": [
        "## Two Variables Only"
      ]
    },
    {
      "cell_type": "code",
      "execution_count": null,
      "metadata": {
        "id": "3RKyZa_do4Qa"
      },
      "outputs": [],
      "source": [
        "diabetes_X_bp = diabetes_X['bp']\n",
        "print('The total dataset size is: {} '.format(len(diabetes_X_bp)))\n",
        "print(\"Here are the first 10 examples of the features: \")\n",
        "display(diabetes_X_bp[:10])\n",
        "print(\"Here are the corresponding labels\")\n",
        "print(diabetes_y.values[1:10])\n",
        "\n",
        "# View Original Data\n",
        "print(\"\\nScatter Plot of the original data\")\n",
        "plt.scatter(diabetes_X_bp,diabetes_y, color=\"blue\", linewidth=1)\n",
        "plt.legend([\"Original\",\"Predictions\"])\n",
        "plt.xlabel(\"BP Values\")\n",
        "plt.ylabel(\"Diabetes Progression Scores\")\n",
        "plt.grid()\n",
        "plt.show()"
      ]
    },
    {
      "cell_type": "code",
      "execution_count": null,
      "metadata": {
        "id": "Jzml2y9B9dgN"
      },
      "outputs": [],
      "source": [
        "# Split the data into training/testing sets\n",
        "diabetes_X_bp_tr, diabetes_X_bp_tt, diabetes_y_bp_train, diabetes_y_bp_test = train_test_split(diabetes_X_bp, diabetes_y, test_size=0.2, random_state=70)\n",
        "\n",
        "# Isolate the feature values for the training and testing datasets\n",
        "diabetes_X_bp_train = diabetes_X_bp_tr.values.reshape(len(diabetes_X_bp_tr.values),1)\n",
        "diabetes_X_bp_test =  diabetes_X_bp_tt.values.reshape(len(diabetes_X_bp_tt.values),1)\n",
        "(\"Ensure that the train-test split is about 80-20:\")\n",
        "print('The shape the training set feature vector is: {} '.format(diabetes_X_bp_train.shape))\n",
        "print('The shape the testing set feature vector is: {} '.format(diabetes_X_bp_test.shape))"
      ]
    },
    {
      "cell_type": "code",
      "execution_count": null,
      "metadata": {
        "id": "LQNp58Em9dgN"
      },
      "outputs": [],
      "source": [
        "# Create linear regr_bpession object\n",
        "regr_bp = linear_model.LinearRegression()\n",
        "\n",
        "# Train the model using the training sets\n",
        "regr_bp.fit(diabetes_X_bp_train, diabetes_y_bp_train)\n",
        "\n",
        "# Make predictions using the testing set\n",
        "diabetes_y_bp_pred = regr_bp.predict(diabetes_X_bp_test)\n",
        "\n",
        "# The coefficients\n",
        "print(\"Coefficients: \\n\", regr_bp.coef_)\n",
        "print(\"Intercept/Bias: %.4f\" % regr_bp.intercept_)\n",
        "# The mean squared error\n",
        "print(\"Mean squared error (MSE): %.2f\" % mean_squared_error(diabetes_y_bp_test.values, diabetes_y_bp_pred))\n",
        "# The root mean squared error\n",
        "print(\"Root Mean squared error (RMSE): %.2f\" % np.sqrt(mean_squared_error(diabetes_y_bp_test.values, diabetes_y_bp_pred)))\n",
        "# The coefficient of determination: 1 is perfect prediction\n",
        "print(\"Coefficient of determination: %.2f\" % r2_score(diabetes_y_bp_test.values, diabetes_y_bp_pred))\n",
        "print(\"Nice Formula Form:\")\n",
        "print(\"Progression = %+.2f*%s%+.2f\" % (regr_bp.coef_[0], 'bp', regr_bp.intercept_))\n",
        "\n",
        "diabetes_X_bp_test_sorted = np.sort(diabetes_X_bp_test,axis=0)\n",
        "Y_pred = regr_bp.coef_*diabetes_X_bp_test_sorted+regr_bp.intercept_"
      ]
    },
    {
      "cell_type": "code",
      "execution_count": null,
      "metadata": {
        "id": "DX_GOv0j9dgP"
      },
      "outputs": [],
      "source": [
        "# Compare Outputs as a bar chart\n",
        "print(\"\\nScatter Plot of the original test data versus Regression\")\n",
        "plt.scatter(diabetes_X_bp_test,diabetes_y_test, color=\"blue\", linewidth=1)\n",
        "#plt.scatter(diabetes_X_bp_test,diabetes_y_pred, color=\"red\", linewidth=1)\n",
        "plt.plot(diabetes_X_bp_test_sorted,Y_pred, color=\"red\", linewidth=1)\n",
        "plt.legend([\"Original\",\"Regression Line\"])\n",
        "plt.xlabel(\"BP Values\")\n",
        "plt.ylabel(\"Diabetes Progression Scores\")\n",
        "plt.grid()\n",
        "plt.show()"
      ]
    },
    {
      "cell_type": "markdown",
      "metadata": {
        "id": "c1nVuXNENrP-"
      },
      "source": [
        "# Logistic Regression"
      ]
    },
    {
      "cell_type": "code",
      "execution_count": null,
      "metadata": {
        "id": "udWTeCdUNJAy"
      },
      "outputs": [],
      "source": [
        "#Importing BREAST CANCER DATA FROM SKLEARN DATASETS\n",
        "data = load_breast_cancer()\n",
        "print(\"Some information regarding the data:\\n\",data.keys())\n",
        "sum(data.target)/len(data.target)"
      ]
    },
    {
      "cell_type": "code",
      "execution_count": null,
      "metadata": {
        "id": "f0b0IrnJNLKP"
      },
      "outputs": [],
      "source": [
        "bcdf=pd.DataFrame(data.data,columns=data.feature_names)\n",
        "print(\"Here are the examples 50-60 of the features: \")\n",
        "display(bcdf[:5])\n",
        "print(\"Here are the corresponding labels\")\n",
        "print(data.target[50:60])"
      ]
    },
    {
      "cell_type": "code",
      "execution_count": null,
      "metadata": {
        "id": "s80Ie7viTrSN"
      },
      "outputs": [],
      "source": [
        "X=data.data\n",
        "y=data.target\n",
        "X_train,X_test,y_train,y_test=train_test_split(X,y)"
      ]
    },
    {
      "cell_type": "code",
      "execution_count": null,
      "metadata": {
        "id": "G-rX2iYPTsCI"
      },
      "outputs": [],
      "source": [
        "scaler = preprocessing.StandardScaler().fit(X_train)\n",
        "X_train = scaler.transform(X_train)"
      ]
    },
    {
      "cell_type": "code",
      "source": [
        "X_train[10]"
      ],
      "metadata": {
        "id": "sPrhp5NIGYku"
      },
      "execution_count": null,
      "outputs": []
    },
    {
      "cell_type": "code",
      "execution_count": null,
      "metadata": {
        "id": "DGEgDuVbTu6I"
      },
      "outputs": [],
      "source": [
        "#Create an instance of the model\n",
        "LR=LogisticRegression()"
      ]
    },
    {
      "cell_type": "code",
      "execution_count": null,
      "metadata": {
        "id": "nN_EDHiPT5CC"
      },
      "outputs": [],
      "source": [
        "LR.fit(X_train,y_train)"
      ]
    },
    {
      "cell_type": "code",
      "execution_count": null,
      "metadata": {
        "id": "uJmyakdkUDsA"
      },
      "outputs": [],
      "source": [
        "bcdf.head(3)\n",
        "bcdf['Target']=data.target"
      ]
    },
    {
      "cell_type": "code",
      "execution_count": null,
      "metadata": {
        "id": "ArC1DhAYUFxq"
      },
      "outputs": [],
      "source": [
        "#MODEL ACCURACY\n",
        "X_test = scaler.transform(X_test)\n",
        "y_hat=LR.predict(X_test)\n",
        "print(f\"The classification accuracy: {LR.score(X_test,y_test)*100:.2f}%\")\n",
        "# Generates > 95% accuracy using LOGISTIC REGRESSION MODEL"
      ]
    },
    {
      "cell_type": "code",
      "execution_count": null,
      "metadata": {
        "id": "NzZZNKRCUGfg"
      },
      "outputs": [],
      "source": [
        "CM = metrics.confusion_matrix(y_test,y_hat,labels=[0,1])\n",
        "print(\"The Confusion Matrix:\\n\",CM)\n",
        "sns.heatmap(CM,annot=True)\n",
        "plt.show()"
      ]
    },
    {
      "cell_type": "code",
      "execution_count": null,
      "metadata": {
        "id": "noaIKjw9UQQk"
      },
      "outputs": [],
      "source": [
        "#Show PRECISION, RECALL, F1 SCORE\n",
        "print(metrics.classification_report(y_test,y_hat))"
      ]
    }
  ],
  "metadata": {
    "colab": {
      "provenance": []
    },
    "kernelspec": {
      "display_name": "Python 3 (ipykernel)",
      "language": "python",
      "name": "python3"
    },
    "language_info": {
      "codemirror_mode": {
        "name": "ipython",
        "version": 3
      },
      "file_extension": ".py",
      "mimetype": "text/x-python",
      "name": "python",
      "nbconvert_exporter": "python",
      "pygments_lexer": "ipython3",
      "version": "3.9.6"
    }
  },
  "nbformat": 4,
  "nbformat_minor": 0
}